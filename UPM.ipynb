{
 "cells": [
  {
   "cell_type": "code",
   "execution_count": 1,
   "metadata": {},
   "outputs": [
    {
     "name": "stderr",
     "output_type": "stream",
     "text": [
      "WARNING (pytensor.tensor.blas): Using NumPy C-API based implementation for BLAS functions.\n"
     ]
    }
   ],
   "source": [
    "import arviz as az\n",
    "import matplotlib.pyplot as plt\n",
    "import numpy as np\n",
    "import pymc as pm\n",
    "import pandas as pd\n",
    "import pytensor.tensor as pt\n",
    "import numpy.ma as ma\n",
    "from scipy.stats import norm \n",
    "plt.rcParams['font.family'] = 'Arial'\n",
    "plt.rcParams.update({'font.size': 8})"
   ]
  },
  {
   "cell_type": "code",
   "execution_count": 2,
   "metadata": {},
   "outputs": [],
   "source": [
    "#Read data from sample_dataset.csv\n",
    "\n",
    "df = pd.read_csv('sample_dataset.csv')\n",
    "Nsites=df.shape[0]\n",
    "df.drop(['Sites','X','Y'], axis=1, inplace=True)\n",
    "data_source = df.to_numpy()"
   ]
  },
  {
   "cell_type": "code",
   "execution_count": 3,
   "metadata": {},
   "outputs": [],
   "source": [
    "#Read data from adjacency_matrix.csv\n",
    "\n",
    "df = pd.read_csv('adjacency_matrix.csv',header=None)\n",
    "adj_matrix = df.to_numpy()\n"
   ]
  },
  {
   "cell_type": "code",
   "execution_count": 4,
   "metadata": {},
   "outputs": [
    {
     "name": "stderr",
     "output_type": "stream",
     "text": [
      "/usr/local/lib/python3.9/site-packages/pymc/model/core.py:1323: ImputationWarning: Data in obs contains missing values and will be automatically imputed from the sampling distribution.\n",
      "  warnings.warn(impute_message, ImputationWarning)\n",
      "Auto-assigning NUTS sampler...\n",
      "Initializing NUTS using jitter+adapt_diag...\n",
      "Multiprocess sampling (4 chains in 4 jobs)\n",
      "NUTS: [sd, beta0, phi, obs_unobserved]\n",
      "WARNING (pytensor.tensor.blas): Using NumPy C-API based implementation for BLAS functions.\n",
      "WARNING (pytensor.tensor.blas): Using NumPy C-API based implementation for BLAS functions.\n",
      "WARNING (pytensor.tensor.blas): Using NumPy C-API based implementation for BLAS functions.\n",
      "WARNING (pytensor.tensor.blas): Using NumPy C-API based implementation for BLAS functions.\n"
     ]
    },
    {
     "data": {
      "text/html": [
       "\n",
       "<style>\n",
       "    /* Turns off some styling */\n",
       "    progress {\n",
       "        /* gets rid of default border in Firefox and Opera. */\n",
       "        border: none;\n",
       "        /* Needs to be in here for Safari polyfill so background images work as expected. */\n",
       "        background-size: auto;\n",
       "    }\n",
       "    progress:not([value]), progress:not([value])::-webkit-progress-bar {\n",
       "        background: repeating-linear-gradient(45deg, #7e7e7e, #7e7e7e 10px, #5c5c5c 10px, #5c5c5c 20px);\n",
       "    }\n",
       "    .progress-bar-interrupted, .progress-bar-interrupted::-webkit-progress-bar {\n",
       "        background: #F44336;\n",
       "    }\n",
       "</style>\n"
      ],
      "text/plain": [
       "<IPython.core.display.HTML object>"
      ]
     },
     "metadata": {},
     "output_type": "display_data"
    },
    {
     "data": {
      "text/html": [
       "\n",
       "    <div>\n",
       "      <progress value='6000' class='' max='6000' style='width:300px; height:20px; vertical-align: middle;'></progress>\n",
       "      100.00% [6000/6000 03:37&lt;00:00 Sampling 4 chains, 0 divergences]\n",
       "    </div>\n",
       "    "
      ],
      "text/plain": [
       "<IPython.core.display.HTML object>"
      ]
     },
     "metadata": {},
     "output_type": "display_data"
    },
    {
     "name": "stderr",
     "output_type": "stream",
     "text": [
      "Sampling 4 chains for 1_000 tune and 500 draw iterations (4_000 + 2_000 draws total) took 226 seconds.\n"
     ]
    }
   ],
   "source": [
    "\n",
    "UPM_CAR = pm.distributions.multivariate.CARRV(ndims_params = [1, 2, 0, 1]) #Monkeypatching (source-code modification)\n",
    "pm.CAR.rv_op = UPM_CAR #Monkeypatching (source-code modification)\n",
    "\n",
    "\n",
    "#prep the data\n",
    "data=data_source\n",
    "datatrans = data.transpose()\n",
    "\n",
    "# Bayesian modelling\n",
    "coords = {\"Nsites\":np.arange(Nsites)}\n",
    "with pm.Model(coords=coords) as model:\n",
    "    sd = pm.Uniform(\"sd\",lower=0,upper=2,dims=\"Nsites\",initval=np.repeat(0.1,Nsites))\n",
    "    beta0 = pm.Uniform(\"beta0\", lower=0,upper=4,initval=0.1)\n",
    "    tau=sd*sd\n",
    "    alpha=0.99\n",
    "    #alpha = pm.Beta(\"alpha\", alpha=1, beta=1)\n",
    "    phi= pm.CAR (\"phi\", mu=np.zeros(Nsites),tau=tau, W=adj_matrix, alpha=alpha, dims=\"Nsites\",initval=np.repeat(0.01,Nsites) )\n",
    "    mu = pm.Deterministic(\"mu\", beta0+phi)\n",
    "    obs = pm.Normal(\"obs\", mu=mu, sigma=sd, observed=datatrans)\n",
    "    idata = pm.sample(draws=500,tune=1000,compute_convergence_checks=False)\n"
   ]
  },
  {
   "cell_type": "code",
   "execution_count": 5,
   "metadata": {},
   "outputs": [
    {
     "data": {
      "text/html": [
       "<div>\n",
       "<style scoped>\n",
       "    .dataframe tbody tr th:only-of-type {\n",
       "        vertical-align: middle;\n",
       "    }\n",
       "\n",
       "    .dataframe tbody tr th {\n",
       "        vertical-align: top;\n",
       "    }\n",
       "\n",
       "    .dataframe thead th {\n",
       "        text-align: right;\n",
       "    }\n",
       "</style>\n",
       "<table border=\"1\" class=\"dataframe\">\n",
       "  <thead>\n",
       "    <tr style=\"text-align: right;\">\n",
       "      <th></th>\n",
       "      <th>mean</th>\n",
       "      <th>sd</th>\n",
       "      <th>hdi_3%</th>\n",
       "      <th>hdi_97%</th>\n",
       "      <th>mcse_mean</th>\n",
       "      <th>mcse_sd</th>\n",
       "      <th>ess_bulk</th>\n",
       "      <th>ess_tail</th>\n",
       "      <th>r_hat</th>\n",
       "    </tr>\n",
       "  </thead>\n",
       "  <tbody>\n",
       "    <tr>\n",
       "      <th>mu[0]</th>\n",
       "      <td>1.562</td>\n",
       "      <td>0.570</td>\n",
       "      <td>0.599</td>\n",
       "      <td>2.661</td>\n",
       "      <td>0.040</td>\n",
       "      <td>0.028</td>\n",
       "      <td>209.0</td>\n",
       "      <td>608.0</td>\n",
       "      <td>1.01</td>\n",
       "    </tr>\n",
       "    <tr>\n",
       "      <th>mu[1]</th>\n",
       "      <td>1.520</td>\n",
       "      <td>0.484</td>\n",
       "      <td>0.556</td>\n",
       "      <td>2.365</td>\n",
       "      <td>0.036</td>\n",
       "      <td>0.026</td>\n",
       "      <td>179.0</td>\n",
       "      <td>535.0</td>\n",
       "      <td>1.01</td>\n",
       "    </tr>\n",
       "    <tr>\n",
       "      <th>mu[2]</th>\n",
       "      <td>1.411</td>\n",
       "      <td>0.389</td>\n",
       "      <td>0.673</td>\n",
       "      <td>2.120</td>\n",
       "      <td>0.026</td>\n",
       "      <td>0.019</td>\n",
       "      <td>218.0</td>\n",
       "      <td>750.0</td>\n",
       "      <td>1.00</td>\n",
       "    </tr>\n",
       "    <tr>\n",
       "      <th>mu[3]</th>\n",
       "      <td>1.691</td>\n",
       "      <td>0.415</td>\n",
       "      <td>0.890</td>\n",
       "      <td>2.437</td>\n",
       "      <td>0.027</td>\n",
       "      <td>0.019</td>\n",
       "      <td>234.0</td>\n",
       "      <td>742.0</td>\n",
       "      <td>1.01</td>\n",
       "    </tr>\n",
       "    <tr>\n",
       "      <th>mu[4]</th>\n",
       "      <td>1.798</td>\n",
       "      <td>0.447</td>\n",
       "      <td>0.979</td>\n",
       "      <td>2.648</td>\n",
       "      <td>0.030</td>\n",
       "      <td>0.021</td>\n",
       "      <td>222.0</td>\n",
       "      <td>744.0</td>\n",
       "      <td>1.01</td>\n",
       "    </tr>\n",
       "    <tr>\n",
       "      <th>...</th>\n",
       "      <td>...</td>\n",
       "      <td>...</td>\n",
       "      <td>...</td>\n",
       "      <td>...</td>\n",
       "      <td>...</td>\n",
       "      <td>...</td>\n",
       "      <td>...</td>\n",
       "      <td>...</td>\n",
       "      <td>...</td>\n",
       "    </tr>\n",
       "    <tr>\n",
       "      <th>sd[44]</th>\n",
       "      <td>1.959</td>\n",
       "      <td>0.039</td>\n",
       "      <td>1.885</td>\n",
       "      <td>2.000</td>\n",
       "      <td>0.001</td>\n",
       "      <td>0.001</td>\n",
       "      <td>2105.0</td>\n",
       "      <td>1164.0</td>\n",
       "      <td>1.00</td>\n",
       "    </tr>\n",
       "    <tr>\n",
       "      <th>sd[45]</th>\n",
       "      <td>1.960</td>\n",
       "      <td>0.039</td>\n",
       "      <td>1.887</td>\n",
       "      <td>2.000</td>\n",
       "      <td>0.001</td>\n",
       "      <td>0.000</td>\n",
       "      <td>2086.0</td>\n",
       "      <td>1018.0</td>\n",
       "      <td>1.00</td>\n",
       "    </tr>\n",
       "    <tr>\n",
       "      <th>sd[46]</th>\n",
       "      <td>1.959</td>\n",
       "      <td>0.040</td>\n",
       "      <td>1.889</td>\n",
       "      <td>2.000</td>\n",
       "      <td>0.001</td>\n",
       "      <td>0.000</td>\n",
       "      <td>1992.0</td>\n",
       "      <td>1197.0</td>\n",
       "      <td>1.00</td>\n",
       "    </tr>\n",
       "    <tr>\n",
       "      <th>sd[47]</th>\n",
       "      <td>1.960</td>\n",
       "      <td>0.040</td>\n",
       "      <td>1.884</td>\n",
       "      <td>2.000</td>\n",
       "      <td>0.001</td>\n",
       "      <td>0.000</td>\n",
       "      <td>2863.0</td>\n",
       "      <td>964.0</td>\n",
       "      <td>1.00</td>\n",
       "    </tr>\n",
       "    <tr>\n",
       "      <th>sd[48]</th>\n",
       "      <td>1.960</td>\n",
       "      <td>0.039</td>\n",
       "      <td>1.891</td>\n",
       "      <td>2.000</td>\n",
       "      <td>0.001</td>\n",
       "      <td>0.000</td>\n",
       "      <td>2156.0</td>\n",
       "      <td>1123.0</td>\n",
       "      <td>1.00</td>\n",
       "    </tr>\n",
       "  </tbody>\n",
       "</table>\n",
       "<p>98 rows × 9 columns</p>\n",
       "</div>"
      ],
      "text/plain": [
       "         mean     sd  hdi_3%  hdi_97%  mcse_mean  mcse_sd  ess_bulk  ess_tail  \\\n",
       "mu[0]   1.562  0.570   0.599    2.661      0.040    0.028     209.0     608.0   \n",
       "mu[1]   1.520  0.484   0.556    2.365      0.036    0.026     179.0     535.0   \n",
       "mu[2]   1.411  0.389   0.673    2.120      0.026    0.019     218.0     750.0   \n",
       "mu[3]   1.691  0.415   0.890    2.437      0.027    0.019     234.0     742.0   \n",
       "mu[4]   1.798  0.447   0.979    2.648      0.030    0.021     222.0     744.0   \n",
       "...       ...    ...     ...      ...        ...      ...       ...       ...   \n",
       "sd[44]  1.959  0.039   1.885    2.000      0.001    0.001    2105.0    1164.0   \n",
       "sd[45]  1.960  0.039   1.887    2.000      0.001    0.000    2086.0    1018.0   \n",
       "sd[46]  1.959  0.040   1.889    2.000      0.001    0.000    1992.0    1197.0   \n",
       "sd[47]  1.960  0.040   1.884    2.000      0.001    0.000    2863.0     964.0   \n",
       "sd[48]  1.960  0.039   1.891    2.000      0.001    0.000    2156.0    1123.0   \n",
       "\n",
       "        r_hat  \n",
       "mu[0]    1.01  \n",
       "mu[1]    1.01  \n",
       "mu[2]    1.00  \n",
       "mu[3]    1.01  \n",
       "mu[4]    1.01  \n",
       "...       ...  \n",
       "sd[44]   1.00  \n",
       "sd[45]   1.00  \n",
       "sd[46]   1.00  \n",
       "sd[47]   1.00  \n",
       "sd[48]   1.00  \n",
       "\n",
       "[98 rows x 9 columns]"
      ]
     },
     "execution_count": 5,
     "metadata": {},
     "output_type": "execute_result"
    }
   ],
   "source": [
    "az.summary(idata, var_names=[\"mu\",\"sd\"])"
   ]
  },
  {
   "cell_type": "code",
   "execution_count": 6,
   "metadata": {},
   "outputs": [
    {
     "data": {
      "image/png": "[encoded data removed]",
      "text/plain": [
       "<Figure size 600x400 with 8 Axes>"
      ]
     },
     "metadata": {},
     "output_type": "display_data"
    }
   ],
   "source": [
    "#plot_Posterior_idata_min\n",
    "posterior_mean =az.summary(idata, var_names=[\"mu\"])\n",
    "posterior_sd =az.summary(idata, var_names=[\"sd\"])\n",
    "\n",
    "UPM_MU = posterior_mean[\"mean\"]\n",
    "UPM_SD = posterior_sd[\"mean\"]\n",
    "UPM_MU_sd = posterior_mean[\"sd\"]\n",
    "UPM_SD_sd = posterior_sd[\"sd\"]\n",
    "\n",
    "df = pd.read_csv('sample_dataset.csv')\n",
    "x = df[\"X\"].to_numpy()\n",
    "y = df[\"Y\"].to_numpy()\n",
    "z1 = UPM_MU.to_numpy()\n",
    "z2 = UPM_MU_sd.to_numpy()\n",
    "z3 = UPM_SD.to_numpy()\n",
    "z4 = UPM_SD_sd.to_numpy()\n",
    "\n",
    "fig, axs = plt.subplots(2,2, sharex='col', sharey='row',figsize=(6, 4))\n",
    "\n",
    "z1_cm = plt.cm.get_cmap('RdYlBu_r')\n",
    "z2_cm = plt.cm.get_cmap('Greys')\n",
    "z3_cm = plt.cm.get_cmap('bone_r')\n",
    "\n",
    "z1_sc=axs[0,0].scatter(x, y, c=z1, vmax=2.2, vmin=1,s=500,cmap=z1_cm, marker=\"s\")\n",
    "fig.colorbar(z1_sc)\n",
    "axs[0][0].set_title(\"UPM_MU\")\n",
    "\n",
    "z2_sc=axs[0,1].scatter(x, y, c=z2, s=500,cmap=z2_cm, marker=\"s\")\n",
    "fig.colorbar(z2_sc)\n",
    "axs[0][1].set_title(\"UPM_MU_sd\")\n",
    "\n",
    "z3_sc=axs[1,0].scatter(x, y, c=z3,s=500,cmap=z3_cm, marker=\"s\")\n",
    "fig.colorbar(z3_sc)\n",
    "axs[1][0].set_title(\"UPM_SD\")\n",
    "\n",
    "z4_sc=axs[1,1].scatter(x, y, c=z4, s=500,cmap=z2_cm, marker=\"s\")\n",
    "fig.colorbar(z4_sc)\n",
    "axs[1][1].set_title(\"UPM_SD_sd\")\n",
    "\n",
    "\n",
    "plt.show()\n",
    "\n",
    "fig.savefig('UPM_Map.png')\n"
   ]
  }
 ],
 "metadata": {
  "kernelspec": {
   "display_name": "Python 3",
   "language": "python",
   "name": "python3"
  },
  "language_info": {
   "codemirror_mode": {
    "name": "ipython",
    "version": 3
   },
   "file_extension": ".py",
   "mimetype": "text/x-python",
   "name": "python",
   "nbconvert_exporter": "python",
   "pygments_lexer": "ipython3",
   "version": "3.9.18 (main, Jan 16 2024, 15:38:36) \n[Clang 14.0.0 (clang-1400.0.29.202)]"
  },
  "orig_nbformat": 4,
  "vscode": {
   "interpreter": {
    "hash": "397704579725e15f5c7cb49fe5f0341eb7531c82d19f2c29d197e8b64ab5776b"
   }
  }
 },
 "nbformat": 4,
 "nbformat_minor": 2
}
